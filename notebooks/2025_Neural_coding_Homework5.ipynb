{
  "nbformat": 4,
  "nbformat_minor": 0,
  "metadata": {
    "colab": {
      "provenance": []
    },
    "kernelspec": {
      "name": "python3",
      "display_name": "Python 3"
    },
    "language_info": {
      "name": "python"
    }
  },
  "cells": [
    {
      "cell_type": "markdown",
      "source": [
        "# Homework 5"
      ],
      "metadata": {
        "id": "LfqedAaBbwhJ"
      }
    },
    {
      "cell_type": "markdown",
      "source": [
        "## Exercise 1: Correlations\n",
        "Let's recreate the plot from the lecture. Assume two neurons that are tuned to a directed stimulus $s\\in[0, 2\\pi]$. The neurons are Poisson neurons with rates (in Hz)\n",
        "\\begin{align}\n",
        "r_1(s) &= \\exp\\left(\\sin(s - \\frac{\\pi}{4})\\right) \\\\\n",
        "r_2(s) &= \\exp\\left(\\sin\\left(s - \\frac{\\pi}{2}\\right)\\right)\n",
        "\\end{align}\n",
        "\n",
        "a) Draw 10,000 stimuli uniformly. For both neurons, draw spike counts for a measurement duration of 25 seconds and save the firing rates. Discretize the range for the stimuli into 20 bins and compute the tuning curves (average firing rate). Plot the tuning curves for both neurons into separate subplots. Additionally, pick one bin and plot all firing rates for that bin as a scatter plot (for each neuron, plot into the same corresponding subplot). (3 points)\n",
        "\n",
        "b) For this one bin, scatter plot the firing rates. Compute and plot the noise correlation. (1 point)\n",
        "\n",
        "c) Scatter plot the simulated tuning curves. Compute and plot the signal correlation. (1 point)\n",
        "\n",
        "d) Confirm the law of total covariance by computing all of its components (2x2 matrices). (1 point)\n",
        "\n",
        "e) Now, we conduct a different experiment with only 2 stimuli: $s_1 = \\frac\\pi4$ and $s_2=\\frac{\\pi}{2}$. Draw 1000 stimuli each and create a scatter plot of the firing rate responses. In the same plot, for each neuron illustrate the covariance (with an ellipse) and the decision boundary (as a line). (2 points)\n",
        "\n",
        "f) Brainstorm at least three biologically plausible ways how noise covariances could appear in our measurements. Discuss whether they can be positive or negative. (1,5 points)\n",
        "\n",
        "*Hint: You are allowed and encouraged to use the forum for an open exchange among students for this.*\n",
        "\n",
        "g) Choose one model that allows for positive and (!) negative noise correlations and implement it. Repeat the plot from e) with positive and negative noise correlations (two subplots). Discuss and compute (with MDE) whether the noise correlations support or obstruct decoding. (4 points)\n",
        "\n",
        "h) Repeat g) for a different set of stimuli that have the opposite (inversed sign) signal correlation. (1 point)"
      ],
      "metadata": {
        "id": "OSvj2nZmb6Mo"
      }
    }
  ]
}